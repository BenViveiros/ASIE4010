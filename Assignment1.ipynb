{
 "cells": [
  {
   "cell_type": "markdown",
   "id": "4eeae95e",
   "metadata": {},
   "source": [
    "# AISE4010 — Assignment 1 \n",
    "### Time Series Forecasting with Autoregressive Models and MLP \n",
    "\n",
    "**Grade:** 100 points\n",
    "\n",
    "## Instructions\n",
    "Follow these steps before submitting your assignment:\n",
    "1. Complete the notebook.\n",
    "2. Make sure **all plots have axis labels**.\n",
    "3. When finished, go to **Kernel → Restart & Run All** to ensure a clean, error‑free run.\n",
    "4. Fix any errors until your notebook runs without problems.\n",
    "5. Submit **one completed notebook** per group to OWL by the deadline.\n",
    "6. Reference all external code and documentation you use.\n",
    "\n",
    "## Dataset \n",
    "- **File:** `weather.csv`\n",
    "- **Location:** Szeged, Hungary\n",
    "- **Frequency:** Daily (fixed calendar index)\n",
    "- **Time span:** ≈ 2006–2016\n",
    "- **Target:** `Temperature (C)`\n",
    "- **Key variables:** Temperature (C), Pressure (millibars), Humidity, Appar Temperature (C), Wind Speed (km/h), Wind Bearing (degrees), Visibility (km)\n"
   ]
  },
  {
   "cell_type": "markdown",
   "id": "e552bb48",
   "metadata": {},
   "source": [
    "## Question 1: Data Preprocessing (25%)\n",
    "\n",
    "### Q1.1 Exploratory Data Analysis (2%)\n",
    "1. Load the dataset and print the **first 6 rows**.  \n",
    "2. Encode categorical variables (one‑hot). *(If none, report \"none.\")*\n"
   ]
  },
  {
   "cell_type": "code",
   "execution_count": null,
   "id": "38a6d907",
   "metadata": {},
   "outputs": [],
   "source": []
  },
  {
   "cell_type": "code",
   "execution_count": null,
   "id": "3f59a6dc",
   "metadata": {},
   "outputs": [],
   "source": [
    "# Answer to Q1.1.2"
   ]
  },
  {
   "cell_type": "markdown",
   "id": "7b85905b",
   "metadata": {},
   "source": [
    "### Q1.2 Handling Missing Data (11%)\n",
    "1. Report missingness (**counts & %**) and show a heatmap for **Temperature, Pressure, Humidity**.\n",
    "2. Use these two imputation methods:\\\n",
    "   a) Forward-fill (FFill).\\\n",
    "   b) Linear time interpolation.\n",
    "3. Pick one method and save the result as `daily_clean`.\n",
    "4. **Discussion** Which imputation method did you pick and why?  \n",
    "5. **Discussion** How might your choice bias trend/seasonality estimates?  \n",
    "6. **Discussion** Would your choice change if the gap were 30 days instead of 7? Explain briefly.\n"
   ]
  },
  {
   "cell_type": "code",
   "execution_count": null,
   "id": "a96ce71b",
   "metadata": {},
   "outputs": [],
   "source": [
    "# Answer to Q1.2.1"
   ]
  },
  {
   "cell_type": "code",
   "execution_count": null,
   "id": "1c57ed16",
   "metadata": {},
   "outputs": [],
   "source": [
    "# Answer to Q1.2.2"
   ]
  },
  {
   "cell_type": "code",
   "execution_count": null,
   "id": "c6373a9c",
   "metadata": {},
   "outputs": [],
   "source": [
    "# Answer to Q1.2.3"
   ]
  },
  {
   "cell_type": "markdown",
   "id": "32f440c6",
   "metadata": {},
   "source": [
    "**Answer to Q1.2.4**: \n"
   ]
  },
  {
   "cell_type": "markdown",
   "id": "6060940e",
   "metadata": {},
   "source": [
    "**Answer to Q1.2.5**: \n"
   ]
  },
  {
   "cell_type": "markdown",
   "id": "9701361e",
   "metadata": {},
   "source": [
    "**Answer to Q1.2.6**: \n"
   ]
  },
  {
   "cell_type": "markdown",
   "id": "5727739e",
   "metadata": {},
   "source": [
    "### Q1.3 Stationarity Analysis (12%)\n",
    "1. Extract the **univariate** series `Temperature_Series = daily_clean['Temperature (C)']` and `Pressure_Series = daily_clean['Pressure (millibars)'].  \n",
    "2. Report the results of a stationarity test (**ADF** or **KPSS**) for both series.\n",
    "3. **Discussion:** Explain your conclusion about stationary analysis of your results. \n",
    "4. Apply differencing on both series and plot **before/after** and report the stationary test results of your choice on differenced series.   \n",
    "5. **Discussion:** Explain the reason for your choice of differencing technique for each series.\n",
    "6. **Discussion:** Would you difference a series that is already stationary by ADF? When might that still help?"
   ]
  },
  {
   "cell_type": "code",
   "execution_count": null,
   "id": "c7f7aaa9",
   "metadata": {},
   "outputs": [],
   "source": [
    "# Answer to Q1.3.1"
   ]
  },
  {
   "cell_type": "code",
   "execution_count": null,
   "id": "f2d4dc39",
   "metadata": {},
   "outputs": [],
   "source": [
    "# Answer to Q1.3.2"
   ]
  },
  {
   "cell_type": "markdown",
   "id": "bd0dbb90",
   "metadata": {},
   "source": [
    "**Answer to Q1.2.3**: \n"
   ]
  },
  {
   "cell_type": "code",
   "execution_count": null,
   "id": "0260e18c",
   "metadata": {},
   "outputs": [],
   "source": [
    "# Answer to Q1.3.4"
   ]
  },
  {
   "cell_type": "markdown",
   "id": "a124f93d",
   "metadata": {},
   "source": [
    "**Answer to Q1.2.5**: \n"
   ]
  },
  {
   "cell_type": "markdown",
   "id": "5fff77d4",
   "metadata": {},
   "source": [
    "**Answer to Q1.2.6**: \n"
   ]
  },
  {
   "cell_type": "markdown",
   "id": "98be1eb9",
   "metadata": {},
   "source": [
    "## Question 2: Model-Based Techniques (35%)\n",
    "\n",
    "### Q2.1 ARIMA model identification and forecasting (20%)\n",
    "1. Use `Temperature_Series` to plot **ACF/PACF** and list the choice of candidate order set for ARIMA: (p,d,q).  \n",
    "2. **Discussion:** Explain the reasons for your choice of (p,d,q).\n",
    "3. Select the orders by **AIC** using the training set (hold out the last **365 days** for testing).  \n",
    "4. Fit the selected ARIMA on the training set and evaluate the predictions' **MAE/MSE** on the test set.\n",
    "5. Plot predictions with **95% CI**.\n",
    "6. Forecast the **next 365 days** and visualize with historical context and **95% CI**.\n"
   ]
  },
  {
   "cell_type": "code",
   "execution_count": null,
   "id": "08445c61",
   "metadata": {},
   "outputs": [],
   "source": [
    "# Answer to Q2.1.1"
   ]
  },
  {
   "cell_type": "markdown",
   "id": "8dc00caa",
   "metadata": {},
   "source": [
    "**Answer to Q2.1.2**: \n"
   ]
  },
  {
   "cell_type": "code",
   "execution_count": null,
   "id": "568db99e",
   "metadata": {},
   "outputs": [],
   "source": [
    "# Answer to Q2.1.3"
   ]
  },
  {
   "cell_type": "code",
   "execution_count": null,
   "id": "0fa1a7ce",
   "metadata": {},
   "outputs": [],
   "source": [
    "# Answer to Q2.1.4"
   ]
  },
  {
   "cell_type": "code",
   "execution_count": null,
   "id": "65aefa27",
   "metadata": {},
   "outputs": [],
   "source": [
    "# Answer to Q2.1.5"
   ]
  },
  {
   "cell_type": "code",
   "execution_count": null,
   "id": "49119180",
   "metadata": {},
   "outputs": [],
   "source": [
    "# Answer to Q2.1.6"
   ]
  },
  {
   "cell_type": "markdown",
   "id": "0d70562b",
   "metadata": {},
   "source": [
    "### Q2.2 SARIMA forecasting (15%)\n",
    "\n",
    "1. Derive a **monthly** series from `daily_clean` and fit a **SARIMA** with seasonal period **12**. Hold out the **last 24 months** as test set for prediction. \n",
    "2. Report the predictions' **MAE/MSE**.\n",
    "3. Plot the the prediction with **95% CI** \n",
    "4.  **Discussion:** Compare the ARIMA and SARIMA predictions and explain your findings.\n"
   ]
  },
  {
   "cell_type": "code",
   "execution_count": null,
   "id": "29d8d7b0",
   "metadata": {},
   "outputs": [],
   "source": [
    "# Answer to Q2.2.1"
   ]
  },
  {
   "cell_type": "code",
   "execution_count": null,
   "id": "8b14b29d",
   "metadata": {},
   "outputs": [],
   "source": [
    "# Answer to Q2.2.2"
   ]
  },
  {
   "cell_type": "code",
   "execution_count": null,
   "id": "801e0a17",
   "metadata": {},
   "outputs": [],
   "source": [
    "# Answer to Q2.2.3"
   ]
  },
  {
   "cell_type": "markdown",
   "id": "5ed943f3",
   "metadata": {},
   "source": [
    "**Answer to Q2.2.4**: \n"
   ]
  },
  {
   "cell_type": "markdown",
   "id": "438199c7",
   "metadata": {},
   "source": [
    "## Question 3: Neural Networks for Time Series Forecasting (40%)\n",
    "Use `daily_clean` for all parts.\n",
    "\n",
    "### Q3.1 Sliding Window for Time Series — Univariate (2%)\n",
    "1. Restructure **Temperature**: past **10 days** → **next day**.\n",
    "\n",
    "2. Hold out last 20% as test set.\n"
   ]
  },
  {
   "cell_type": "code",
   "execution_count": null,
   "id": "861f633c",
   "metadata": {},
   "outputs": [],
   "source": [
    "# Answer to Q3.1.1"
   ]
  },
  {
   "cell_type": "code",
   "execution_count": null,
   "id": "3a8f07f1",
   "metadata": {},
   "outputs": [],
   "source": [
    "# Answer to Q3.1.2"
   ]
  },
  {
   "cell_type": "markdown",
   "id": "c2947ac2",
   "metadata": {},
   "source": [
    "### Q3.2 MLP — Univariate (18%)\n",
    "1. Build an MLP with one hidden layer of 64 neurons, ReLu activation, Adam optimizer with learning rate of 0.001 and batch_size=32, and train it for 20 epochs. \n",
    "2. Report **RMSE/MAE**.\n",
    "3. Plot **two figures**: (1) **last 100 test points** (true vs. predicted), (2) **scatter (true vs. predicted)** with the **y = x** line.\n",
    "4. **Discussion:** Compare ARIMA vs. the univariate MLP in **RMSE/MAE** and **plots**. Which patterns does each capture better? \n",
    "5. **Discussion:** Would increasing the input window beyond 10 days help? Why or why not?\n"
   ]
  },
  {
   "cell_type": "code",
   "execution_count": null,
   "id": "7a621e60",
   "metadata": {},
   "outputs": [],
   "source": [
    "# Answer to Q3.2.1"
   ]
  },
  {
   "cell_type": "code",
   "execution_count": null,
   "id": "c9e4b52b",
   "metadata": {},
   "outputs": [],
   "source": [
    "# Answer to Q3.2.2"
   ]
  },
  {
   "cell_type": "code",
   "execution_count": null,
   "id": "650817bc",
   "metadata": {},
   "outputs": [],
   "source": [
    "# Answer to Q3.2.3"
   ]
  },
  {
   "cell_type": "markdown",
   "id": "b897819c",
   "metadata": {},
   "source": [
    "**Answer to Q3.2.4**: \n"
   ]
  },
  {
   "cell_type": "markdown",
   "id": "bd99c011",
   "metadata": {},
   "source": [
    "**Answer to Q3.2.5**: \n"
   ]
  },
  {
   "cell_type": "markdown",
   "id": "54e6e3ee",
   "metadata": {},
   "source": [
    "### Q3.3 MLP — Multivariate (20%)\n",
    "1. Use **Temperature & Pressure** for the past **10 days** as the inputs and **next‑day Temperature** as the target. \n",
    "2. Hold out last 20% as test set.\n",
    "3. Build a Multivariate MLP with one hidden layer of 64 neurons, ReLu activation, Adam optimizer with learning rate of 0.001 and batch_size=32, and train it for 20 epochs. \n",
    "4. Report **RMSE/MAE**.\n",
    "5. Plot **two figures**: (1) **last 100 test points** (true vs. predicted), (2) **scatter (true vs. predicted)** with the **y = x** line.\n",
    "6. **Discussion:** Did Pressure improve Temperature forecasting vs. univariate? Why might it help/hurt?  \n",
    "7. **Discussion:** Suggest two additional features you would add next and why?\n"
   ]
  },
  {
   "cell_type": "code",
   "execution_count": null,
   "id": "6470ad1c",
   "metadata": {},
   "outputs": [],
   "source": [
    "# Answer to Q3.3.1"
   ]
  },
  {
   "cell_type": "code",
   "execution_count": null,
   "id": "338615e3",
   "metadata": {},
   "outputs": [],
   "source": [
    "# Answer to Q3.3.2"
   ]
  },
  {
   "cell_type": "code",
   "execution_count": null,
   "id": "d2d52cb2",
   "metadata": {},
   "outputs": [],
   "source": [
    "# Answer to Q3.3.3"
   ]
  },
  {
   "cell_type": "code",
   "execution_count": null,
   "id": "280733f1",
   "metadata": {},
   "outputs": [],
   "source": [
    "# Answer to Q3.3.4"
   ]
  },
  {
   "cell_type": "code",
   "execution_count": null,
   "id": "6c2f9b44",
   "metadata": {},
   "outputs": [],
   "source": [
    "# Answer to Q3.3.5"
   ]
  },
  {
   "cell_type": "markdown",
   "id": "3a23d8f9",
   "metadata": {},
   "source": [
    "**Answer to Q3.3.6**: \n"
   ]
  },
  {
   "cell_type": "markdown",
   "id": "503b0d46",
   "metadata": {},
   "source": [
    "**Answer to Q3.3.7**: \n"
   ]
  }
 ],
 "metadata": {
  "kernelspec": {
   "display_name": "Python 3 (ipykernel)",
   "language": "python",
   "name": "python3"
  },
  "language_info": {
   "codemirror_mode": {
    "name": "ipython",
    "version": 3
   },
   "file_extension": ".py",
   "mimetype": "text/x-python",
   "name": "python",
   "nbconvert_exporter": "python",
   "pygments_lexer": "ipython3",
   "version": "3.11.5"
  }
 },
 "nbformat": 4,
 "nbformat_minor": 5
}
